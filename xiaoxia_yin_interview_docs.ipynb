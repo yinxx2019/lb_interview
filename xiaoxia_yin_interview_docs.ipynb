{
  "nbformat": 4,
  "nbformat_minor": 0,
  "metadata": {
    "colab": {
      "provenance": []
    },
    "kernelspec": {
      "name": "python3",
      "display_name": "Python 3"
    },
    "language_info": {
      "name": "python"
    }
  },
  "cells": [
    {
      "cell_type": "markdown",
      "source": [
        "# Import Text Data Using Public URLs\n",
        "The Labelbox platform enables you to annotate and manage training data to build high-quality training datasets for your machine learning models. It supports various types of data, including images, videos, text, and conversational data, from different sources such as local files, cloud storage, and public URLs. This notebook provides an example of how to use the Labelbox SDK to import a public domain text file directly and securely from its source for further data annotation and model integration."
      ],
      "metadata": {
        "id": "c-vUDaKqUKu9"
      }
    },
    {
      "cell_type": "markdown",
      "source": [
        "\n",
        "\n",
        "---\n",
        "\n"
      ],
      "metadata": {
        "id": "MbCJWBdXcn5S"
      }
    },
    {
      "cell_type": "markdown",
      "source": [
        "## Step 1: Create an API Key\n",
        "\n",
        "Labelbox uses API keys to authenticate API requests, so you need to create one for your data importing request. To create an API key:\n",
        "\n",
        "\n",
        "1.   Go to the [Workspace settings](https://app.labelbox.com/workspace-settings/api-keys) page of your Labelbox app and select **API keys**.\n",
        "2.   Select **New API key**\n",
        "3.   In the **Create new API key** prompt, enter a descriptive name for your API key and then select **Create**.\n",
        "4.   In the **API key created** prompt, use the **Copy** button to copy the key.\n",
        "5.   Save the API key in a safe location that you can access when importing the data.\n"
      ],
      "metadata": {
        "id": "LE1So7DObNTY"
      }
    },
    {
      "cell_type": "markdown",
      "source": [
        "\n",
        "\n",
        "---\n",
        "\n"
      ],
      "metadata": {
        "id": "MsWs-Xl7RXTW"
      }
    },
    {
      "cell_type": "markdown",
      "source": [
        "## Step 2: Set up the Environment\n",
        "\n",
        "First, install the latest Labelbox Python SDK:"
      ],
      "metadata": {
        "id": "_iFqUJX5RBFF"
      }
    },
    {
      "cell_type": "code",
      "source": [
        "!pip install -q \"labelbox[data]\""
      ],
      "metadata": {
        "id": "qvjufEE-Qq8-"
      },
      "execution_count": null,
      "outputs": []
    },
    {
      "cell_type": "markdown",
      "source": [
        "Then, import the API Client:"
      ],
      "metadata": {
        "id": "bVtuLTXp16zn"
      }
    },
    {
      "cell_type": "code",
      "source": [
        "import labelbox as lb\n",
        "from labelbox import Client"
      ],
      "metadata": {
        "id": "9yjmJ7MERMHT",
        "colab": {
          "base_uri": "https://localhost:8080/"
        },
        "outputId": "d992a7cd-76a0-4c28-dfe6-88a865b27d50",
        "collapsed": true
      },
      "execution_count": null,
      "outputs": [
        {
          "output_type": "stream",
          "name": "stderr",
          "text": [
            "/usr/local/lib/python3.10/dist-packages/labelbox/schema/export_task.py:119: UserWarning: JSON converter is deprecated and will be removed in a future release\n",
            "  warnings.warn(\"JSON converter is deprecated and will be removed in a future release\")\n"
          ]
        }
      ]
    },
    {
      "cell_type": "markdown",
      "source": [
        "Next, add the API key you just created:"
      ],
      "metadata": {
        "id": "R9MVcBqjajX8"
      }
    },
    {
      "cell_type": "code",
      "source": [
        "# Replace with your API key\n",
        "API_KEY = \"eyJhbGciOiJ...sHUR_SxEXI7ddFqleCKrfdGnRqYBk\"\n",
        "client = lb.Client(api_key=API_KEY)"
      ],
      "metadata": {
        "id": "td5ia2tARM-u"
      },
      "execution_count": null,
      "outputs": []
    },
    {
      "cell_type": "markdown",
      "source": [
        "## Step 3: Configure Data Import Settings\n",
        "\n",
        "Labelbox supports the following parameters for setting up and specifying the necessary details of text datasets:\n",
        "\n",
        "\n",
        "*   `row_data` (required): The source of the dataset. It must be a `txt` file encoded as UTF-8.\n",
        "*   `global_key`: An organization-wide unique identifier for the dataset. See [Global keys](https://docs.labelbox.com/reference/data-row-global-keys).\n",
        "*   `media_type`: A \"TEXT\" string.\n",
        "*   `metadata_fields`: Non-annotation information about the dataset. See [Metadata](https://docs.labelbox.com/docs/datarow-metadata).\n",
        "*   `attachments`: Supplementary content to the dataset. See [Attachments](https://docs.labelbox.com/docs/label-data#attachments).\n",
        "\n",
        "\n",
        "For this example, the `row_data` parameter is the public `https` URL of the dataset. The rest of the parameters are optional, but it's recommended to include a `global_key` to ensure data integrity and a `media_type` for better data validation."
      ],
      "metadata": {
        "id": "Cb6BKdcWavsM"
      }
    },
    {
      "cell_type": "code",
      "source": [
        "# Create the dataset with a name\n",
        "dataset = client.create_dataset(name=\"Demo example - Public Text\")\n",
        "\n",
        "# Add parameters\n",
        "assets = [\n",
        "  {\n",
        "    # Replace the value with any public txt URLs\n",
        "    \"row_data\": \"https://www.gutenberg.org/cache/epub/37106/pg37106.txt\",\n",
        "    # Replace the value with a non-blank string\n",
        "    \"global_key\": \"little-women-text-project-gutenberg-license\",\n",
        "    \"media_type\": \"TEXT\",\n",
        "  }\n",
        "]"
      ],
      "metadata": {
        "id": "jmZwugv34gMj"
      },
      "execution_count": null,
      "outputs": []
    },
    {
      "cell_type": "markdown",
      "source": [
        "## Step 4: Run the Importing Script\n",
        "Run the following script to import the dataset:"
      ],
      "metadata": {
        "id": "QLGwIJ0U3tN-"
      }
    },
    {
      "cell_type": "code",
      "source": [
        "task = dataset.create_data_rows(assets)\n",
        "task.wait_till_done()\n",
        "\n",
        "# For troubleshooting\n",
        "print(task.errors)"
      ],
      "metadata": {
        "colab": {
          "base_uri": "https://localhost:8080/"
        },
        "id": "l63aaE6H3_rz",
        "outputId": "7c772521-7cac-4022-c92d-1ae6d68cdeeb",
        "collapsed": true
      },
      "execution_count": null,
      "outputs": [
        {
          "output_type": "stream",
          "name": "stdout",
          "text": [
            "None\n"
          ]
        }
      ]
    },
    {
      "cell_type": "markdown",
      "source": [
        "## Next Steps\n",
        "If you don't see any errors, you have successfully imported the dataset into your Labelbox app. You can now use it to create and customize labeling projects by defining custom label schemas and workflows tailored to your specific needs. For more information, see [Projects](https://docs.labelbox.com/docs/what-is-a-project)."
      ],
      "metadata": {
        "id": "ACGL_GgBBiDR"
      }
    }
  ]
}